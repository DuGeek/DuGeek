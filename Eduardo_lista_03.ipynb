{
  "nbformat": 4,
  "nbformat_minor": 0,
  "metadata": {
    "colab": {
      "name": "Eduardo_lista_03.ipynb",
      "provenance": [],
      "collapsed_sections": [],
      "authorship_tag": "ABX9TyO4dvw19pfh9enjXeAxWjty",
      "include_colab_link": true
    },
    "kernelspec": {
      "name": "python3",
      "display_name": "Python 3"
    },
    "language_info": {
      "name": "python"
    }
  },
  "cells": [
    {
      "cell_type": "markdown",
      "metadata": {
        "id": "view-in-github",
        "colab_type": "text"
      },
      "source": [
        "<a href=\"https://colab.research.google.com/github/DuGeek/DuGeek/blob/main/Eduardo_lista_03.ipynb\" target=\"_parent\"><img src=\"https://colab.research.google.com/assets/colab-badge.svg\" alt=\"Open In Colab\"/></a>"
      ]
    },
    {
      "cell_type": "markdown",
      "source": [
        "**Lista de Exercicios Nº3**"
      ],
      "metadata": {
        "id": "WgaAlw7Ykohj"
      }
    },
    {
      "cell_type": "code",
      "source": [
        "'''\n",
        "1. Elabore um algoritmo que imprima na tela lado a lado o texto \"Hello World!\" 10 vezes.\n",
        "'''\n",
        "print(\"Hello World!, \" * 10)"
      ],
      "metadata": {
        "colab": {
          "base_uri": "https://localhost:8080/"
        },
        "id": "lw3crX78a-PF",
        "outputId": "ad7883b6-c89e-4bd3-d5a3-f2518023ee06"
      },
      "execution_count": 1,
      "outputs": [
        {
          "output_type": "stream",
          "name": "stdout",
          "text": [
            "Hello World!, Hello World!, Hello World!, Hello World!, Hello World!, Hello World!, Hello World!, Hello World!, Hello World!, Hello World!, \n"
          ]
        }
      ]
    },
    {
      "cell_type": "code",
      "source": [
        "'''\n",
        "2. Elabore um algoritmo que imprima na tela o texto \"Hello World!\" 10 vezes, um por linha.\n",
        "'''\n",
        "for n in range(10):\n",
        "    print(\"Hello World!\")"
      ],
      "metadata": {
        "id": "4661tzo9bGbE"
      },
      "execution_count": null,
      "outputs": []
    },
    {
      "cell_type": "code",
      "source": [
        "'''\n",
        "3. Elabore um algoritmo que imprima todos os números inteiros de 1 até 100 inclusive.\n",
        "'''\n",
        "x = 0\n",
        "while x <= 100:\n",
        "    print(x)\n",
        "    x += 1"
      ],
      "metadata": {
        "id": "Xx-8ROZ3bPTz"
      },
      "execution_count": null,
      "outputs": []
    },
    {
      "cell_type": "code",
      "source": [
        "'''\n",
        "4. Elabore um algoritmo que imprima 100 vezes o texto \"1- Hello World!\" com o número. \n",
        "'''\n",
        "for x in range(100):\n",
        "    print(\"1- Hello Wolrd!\")"
      ],
      "metadata": {
        "id": "yFfOrhHrbgTe"
      },
      "execution_count": null,
      "outputs": []
    },
    {
      "cell_type": "code",
      "source": [
        "'''\n",
        "5. Elabore um algoritmo que imprima todos os números decrescentes de 100 até 0 inclusive.\n",
        "'''\n",
        "x = 100\n",
        "while x >= 0:\n",
        "    print(x)\n",
        "    x = x -1"
      ],
      "metadata": {
        "id": "CqX-CMAcbuN7"
      },
      "execution_count": null,
      "outputs": []
    },
    {
      "cell_type": "code",
      "source": [
        "'''\n",
        "6. Elabore um algoritmo que imprima todos os números pares inteiros de 1 até 1000.\n",
        "'''\n",
        "print(*range(0,1001,2))"
      ],
      "metadata": {
        "id": "pwpaNXbAcAG2"
      },
      "execution_count": null,
      "outputs": []
    },
    {
      "cell_type": "code",
      "execution_count": null,
      "metadata": {
        "id": "W7AzL-QRjTs_"
      },
      "outputs": [],
      "source": [
        "'''\n",
        "7. Elabore um algoritmo que imprima todos os números ímpares de 1000 até 0.\n",
        "'''\n",
        "for x in range(0,100): \n",
        "    if x % 2 != 0: \n",
        "        print(x) "
      ]
    },
    {
      "cell_type": "code",
      "source": [
        "'''\n",
        "8. Elabore um algoritmo que imprima a soma dos 100 primeiros números inteiros positivos.\n",
        "'''\n",
        "x = 0\n",
        "for y in range(101):\n",
        "    x = y + x\n",
        "    \n",
        "print(x)"
      ],
      "metadata": {
        "id": "nnTbJ_fgcTYk"
      },
      "execution_count": null,
      "outputs": []
    },
    {
      "cell_type": "code",
      "source": [
        "'''\n",
        "9. Elabore um algoritmo que solicite ao usuário um número inteiro que indicará a quantidade \n",
        "de vezes que o texto \"Hello World!\" será impresso na tela, um em cada linha.\n",
        "'''\n",
        "x = int(input('Digite um numero inteiro:'))\n",
        "for x in range(x):\n",
        "    print(\"Hello World\")"
      ],
      "metadata": {
        "id": "Mi04yPywcswB"
      },
      "execution_count": null,
      "outputs": []
    },
    {
      "cell_type": "code",
      "source": [
        "'''\n",
        "10. Elabore um algoritmo que solicite ao usuário uma palavra e um número inteiro que \n",
        "indicará a quantidade de vezes que a palavra digitada será impressa na tela, um em cada \n",
        "linha.\n",
        "'''\n",
        "x = int(input(\"Digite um numero inteiro:\"))\n",
        "y = input(\"Digite uma palavra:\")\n",
        "for n in range(x):\n",
        "    print(y)"
      ],
      "metadata": {
        "id": "xRNiJb9Uc3C1"
      },
      "execution_count": null,
      "outputs": []
    },
    {
      "cell_type": "code",
      "source": [
        "'''\n",
        "11. Elabore um algoritmo que leia um número de entrada que indicará a quantidade de \n",
        "números a serem lidos. Em seguida, leia n números (conforme o valor informado \n",
        "anteriormente) e imprima a soma e a média aritmética dos números informados.\n",
        "'''\n",
        "x = int(input(\"Número: \"))\n",
        "\n",
        "nota = float(input(\"Nota: \"))\n",
        "medianota = float(0)\n",
        "medianota = medianota + nota\n",
        "\n",
        "for i in range(1, x):\n",
        "  nota = float(input(\"Nota: \"))\n",
        "  medianota = medianota + nota\n",
        "\n",
        "print(\"Média: \", float(medianota / x ))"
      ],
      "metadata": {
        "id": "b-IjSxckdJwL"
      },
      "execution_count": null,
      "outputs": []
    },
    {
      "cell_type": "code",
      "source": [
        "'''\n",
        "12. Elabore um algoritmo que leia um número de entrada que indicará a quantidade de \n",
        "registros a serem lidos (N). Em seguida algoritmo deve solicitar o nome e idade de N \n",
        "pessoas e ao final apresentar o nome da pessoa mais velha.\n",
        "'''\n",
        "num = int(input(\"Número: \"))\n",
        "maiornome = str(0)\n",
        "maioridade = 0\n",
        "\n",
        "for i in range(num):\n",
        "  nome = input(\"Nome: \")\n",
        "  idade = int(input(\"Idade: \"))\n",
        "  if maioridade < idade:\n",
        "    maioridade = idade\n",
        "    maiornome = nome\n",
        "\n",
        "print(maiornome, \"é a pessoa mais velha!\")"
      ],
      "metadata": {
        "id": "r8SzKpHTfOHA"
      },
      "execution_count": null,
      "outputs": []
    }
  ]
}