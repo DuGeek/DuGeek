{
  "nbformat": 4,
  "nbformat_minor": 0,
  "metadata": {
    "colab": {
      "name": "Eduardo_G._lista_2.ipynb",
      "provenance": [],
      "collapsed_sections": [],
      "authorship_tag": "ABX9TyNSk5gOQVGb0AvdrVXT3nY5",
      "include_colab_link": true
    },
    "kernelspec": {
      "name": "python3",
      "display_name": "Python 3"
    },
    "language_info": {
      "name": "python"
    }
  },
  "cells": [
    {
      "cell_type": "markdown",
      "metadata": {
        "id": "view-in-github",
        "colab_type": "text"
      },
      "source": [
        "<a href=\"https://colab.research.google.com/github/DuGeek/DuGeek/blob/main/Eduardo_G__lista_2.ipynb\" target=\"_parent\"><img src=\"https://colab.research.google.com/assets/colab-badge.svg\" alt=\"Open In Colab\"/></a>"
      ]
    },
    {
      "cell_type": "code",
      "execution_count": null,
      "metadata": {
        "id": "eero2g1SaQea",
        "colab": {
          "base_uri": "https://localhost:8080/"
        },
        "outputId": "2167ddea-8f53-4a21-fb02-60cc1a399522"
      },
      "outputs": [
        {
          "output_type": "stream",
          "name": "stdout",
          "text": [
            "Digite um número:123\n",
            "Seu número e maior que 10\n"
          ]
        }
      ],
      "source": [
        "#1. Elabore um programa que solicite ao usuário um número real e ao final imprima na tela se o\n",
        "#número informado é maior que 10 (dez)\n",
        "\n",
        "n1 = float(input(\"Digite um número:\"))\n",
        "if n1 >= 10:\n",
        "    print(\"Seu número e maior que 10\")\n",
        "else:\n",
        "    print(\"Não é maior que dez!\")"
      ]
    },
    {
      "cell_type": "code",
      "source": [
        "#2. Escreva um programa que solicite ao usuário um número real e ao final imprima na tela se\n",
        "#o número informado é maior ou igual a dez ou menor que 10 (dez)\n",
        "\n",
        "n1 = float(input(\"digite um numero:\"))\n",
        "if n1 >= 10:\n",
        "    print(\"seu numero e maior que 10\")\n",
        "else:\n",
        "    print('seu numero e menor que 10')"
      ],
      "metadata": {
        "id": "S8jjecJNa5xK",
        "colab": {
          "base_uri": "https://localhost:8080/"
        },
        "outputId": "f807158f-c58d-41e3-9b59-1f2b414baa91"
      },
      "execution_count": null,
      "outputs": [
        {
          "output_type": "stream",
          "name": "stdout",
          "text": [
            "digite um numero:123\n",
            "seu numero e maior que 10\n"
          ]
        }
      ]
    },
    {
      "cell_type": "code",
      "source": [
        "#3. Elabore um algoritmo que solicite ao usuário um número real e ao final imprima na tela se o\n",
        "# número informado é maior que dez, se é menor que dez, ou se é igual a dez\n",
        "\n",
        "n1 = float(input(\"Digite um numero:\"))\n",
        "\n",
        "if n1 > 10:\n",
        "    print(\"Seu número e maior que 10\")\n",
        "    print('Seu número nao é igual há 10')\n",
        "    print('Seu número nao é menor que 10')\n",
        "elif n1 == 10:\n",
        "    print('Seu número igual a 10')\n",
        "    print('Seu número não e maior que 10')\n",
        "    print('Seu número não e menor que 10')\n",
        "else:\n",
        "    print('Seu número e menor que 10')\n",
        "    print('Seu número não é maior que 10')\n",
        "    print('Seu número não é igual há 10')"
      ],
      "metadata": {
        "colab": {
          "base_uri": "https://localhost:8080/"
        },
        "id": "VGDh7llHbegR",
        "outputId": "53011cff-bd73-43b9-997f-f2aaeb9e66f8"
      },
      "execution_count": null,
      "outputs": [
        {
          "output_type": "stream",
          "name": "stdout",
          "text": [
            "Digite um numero:123\n",
            "Seu número e maior que 10\n",
            "Seu número nao é igual há 10\n",
            "Seu número nao é menor que 10\n"
          ]
        }
      ]
    },
    {
      "cell_type": "code",
      "source": [
        "#4. Elabore um algoritmo que solicite ao usuário um número real e ao final imprima na tela se o \n",
        "# número informado é positivo, negativo ou nulo (zero)\n",
        "\n",
        "n1 = float(input(\"Digite um número real: \"))\n",
        "\n",
        "if n1 < 0:\n",
        "    print(\"Número negativo!\")\n",
        "elif n1 == 0:\n",
        "    print(\"Número nulo!\")\n",
        "elif n1 > 0:\n",
        "    print(\"Número positivo!\")"
      ],
      "metadata": {
        "id": "TzDDP4AEqpQQ",
        "colab": {
          "base_uri": "https://localhost:8080/"
        },
        "outputId": "60955688-e5b8-4486-b9f1-250c06acb91d"
      },
      "execution_count": null,
      "outputs": [
        {
          "output_type": "stream",
          "name": "stdout",
          "text": [
            "Digite um número real: 123\n",
            "Número positivo!\n"
          ]
        }
      ]
    },
    {
      "cell_type": "code",
      "source": [
        "#5. Elabore um algoritmo que leia um número inteiro e imprima uma das mensagens: é múltiplo\n",
        "# de 3, ou, não é múltiplo de 3\n",
        "\n",
        "n1 = int(input(\"Digite um número inteiro: \"))\n",
        "\n",
        "if n1 % 3 == 0:\n",
        "    print(\"É multiplo de 3!\")\n",
        "else:\n",
        "    print(\"Não é multiplo de 3!\")"
      ],
      "metadata": {
        "colab": {
          "base_uri": "https://localhost:8080/"
        },
        "id": "F5m5QEpez4Af",
        "outputId": "76afd8e6-09aa-462f-cb90-23f26d4a4c7f"
      },
      "execution_count": null,
      "outputs": [
        {
          "output_type": "stream",
          "name": "stdout",
          "text": [
            "Digite um número inteiro: 1223\n",
            "Não é multiplo de 3!\n"
          ]
        }
      ]
    },
    {
      "cell_type": "code",
      "source": [
        "#6. Refazer o exercício anterior, solicitando antes o múltiplo a ser testado\n",
        "\n",
        "mult = int(input(\"Digite um múltiplo: \"))\n",
        "n1 = int(input(\"Digite um número inteiro: \"))\n",
        "\n",
        "if n1 % mult == 0:\n",
        "    print(\"É multiplo de \", mult, \"!\")\n",
        "else:\n",
        "    print(\"Não é múltiplo de \", mult, \"!\")"
      ],
      "metadata": {
        "colab": {
          "base_uri": "https://localhost:8080/"
        },
        "id": "IsQ6ktyA0gWt",
        "outputId": "b7e30c4d-c9a1-431a-c917-793c495bb09f"
      },
      "execution_count": null,
      "outputs": [
        {
          "output_type": "stream",
          "name": "stdout",
          "text": [
            "Digite um múltiplo: 7\n",
            "Digite um número inteiro: 90\n",
            "Não é múltiplo de  7 !\n"
          ]
        }
      ]
    },
    {
      "cell_type": "code",
      "source": [
        "#7. Desenvolva um algoritmo que classifique um número inteiro fornecido pelo usuário como \n",
        "# par ou ímpar\n",
        "\n",
        "n1 = int(input(\"Digite um número: \"))\n",
        "if n1 % 2 == 0:\n",
        "    print(\"Número par!\")\n",
        "else:\n",
        "    print(\"Número ímpar!\")"
      ],
      "metadata": {
        "colab": {
          "base_uri": "https://localhost:8080/"
        },
        "id": "rbzZ3w7u24eJ",
        "outputId": "10931dde-7e34-458f-cafa-4a4c9e8013a6"
      },
      "execution_count": null,
      "outputs": [
        {
          "output_type": "stream",
          "name": "stdout",
          "text": [
            "Digite um número: 44\n",
            "Número par!\n"
          ]
        }
      ]
    },
    {
      "cell_type": "code",
      "source": [
        "#8. Elabore um algoritmo que leia um número, e se ele for maior do que 20, imprimir a metade \n",
        "# desse número, caso contrário, imprimir o dobro do número\n",
        "\n",
        "n1 = int(input(\"Digite seu Número: \"))\n",
        "if n1 > 20:\n",
        "    print(\"A metade é: \", n1 /2)\n",
        "else:\n",
        "    print(\"O dobro é: \", n1 *2)"
      ],
      "metadata": {
        "colab": {
          "base_uri": "https://localhost:8080/"
        },
        "id": "kfYITZpF3eAW",
        "outputId": "b731b76e-a437-4ea9-9131-ca10d8e09105"
      },
      "execution_count": null,
      "outputs": [
        {
          "output_type": "stream",
          "name": "stdout",
          "text": [
            "Número: 50\n",
            "A metade é:  25.0\n"
          ]
        }
      ]
    },
    {
      "cell_type": "code",
      "source": [
        "#9. Elabore um algoritmo que leia dois números inteiros e realize a adição; caso o resultado \n",
        "# seja maior que 10, imprima o quadrado do resultado, caso contrário, imprima a metade dele\n",
        "\n",
        "n1 = int(input(\"Digite o Número 1: \"))\n",
        "n2 = int(input(\"Digite o Número 2: \"))\n",
        "\n",
        "resultado = n1 + n2\n",
        "\n",
        "if resultado > 10:\n",
        "    print(resultado ** 2)\n",
        "else:\n",
        "    print(resultado /2)"
      ],
      "metadata": {
        "colab": {
          "base_uri": "https://localhost:8080/"
        },
        "id": "tgMXW9T45CrH",
        "outputId": "3c891e52-62f9-4308-f107-f79eaa5485fa"
      },
      "execution_count": null,
      "outputs": [
        {
          "output_type": "stream",
          "name": "stdout",
          "text": [
            "Digite o Número 1: 9\n",
            "Digite o Número 2: 9\n",
            "324\n"
          ]
        }
      ]
    },
    {
      "cell_type": "code",
      "source": [
        "#10. O sistema de avaliação de determinada disciplina é composto por três provas. A primeira \n",
        "#prova tem peso 2, a segunda tem peso 3 e a terceira tem peso 5. Considerando que a \n",
        "#média para aprovação é 6.0, faça um algoritmo para calcular a média final de um aluno \n",
        "#desta disciplina e dizer se o aluno foi aprovado ou não\n",
        "\n",
        "n1 = float(input(\"Digite a primeira nota: \"))\n",
        "n2 = float(input(\"Digite a segunda nota: \"))\n",
        "n3 = float(input(\"Digite a terceira nota: \"))\n",
        "\n",
        "resultado = (n1*2)+(n2*3)+(n3*5)/3\n",
        "\n",
        "if resultado > 6:\n",
        "    print(\"Aprovado!\")\n",
        "else:\n",
        "    print(\"Reprovado!\")"
      ],
      "metadata": {
        "id": "PRlFemzr54Y3",
        "colab": {
          "base_uri": "https://localhost:8080/"
        },
        "outputId": "9cc834c5-fd9a-4533-e100-09bc842c2c10"
      },
      "execution_count": null,
      "outputs": [
        {
          "output_type": "stream",
          "name": "stdout",
          "text": [
            "Digite a primeira nota: 8\n",
            "Digite a segunda nota: 5\n",
            "Digite a terceira nota: 8.5\n",
            "Aprovado!\n"
          ]
        }
      ]
    },
    {
      "cell_type": "code",
      "source": [
        "#11. Elabore um algoritmo que leia o nome e o peso de duas pessoas e imprima o nome da \n",
        "# pessoa mais pesada\n",
        "\n",
        "name1 = input(\"Nome pessoa 1: \")\n",
        "peso1 = float(input(\"Peso pessoa 1: \"))\n",
        "name2 = input(\"Nome pessoa 2: \")\n",
        "peso2 = float(input(\"Pesso pessoa 2: \"))\n",
        "\n",
        "if peso1 > peso2:\n",
        "    print(name1, \"é mais pesado(a) que\", name2, \"!\")\n",
        "elif peso1 == peso2:\n",
        "    print(name1, \"é\", name2, \"possuem o mesmo peso!\")\n",
        "else:\n",
        "    print(name2, \"é mais pesado(a) que\", name1, \"!\")"
      ],
      "metadata": {
        "colab": {
          "base_uri": "https://localhost:8080/"
        },
        "id": "ETBnYGms7JTf",
        "outputId": "ed8e6381-f01e-45b6-cf5b-f0f1522a653a"
      },
      "execution_count": null,
      "outputs": [
        {
          "output_type": "stream",
          "name": "stdout",
          "text": [
            "Nome pessoa 1: eduardo\n",
            "Peso pessoa 1: 62\n",
            "Nome pessoa 2: victor\n",
            "Pesso pessoa 2: 60\n",
            "eduardo é mais pesado(a) que victor !\n"
          ]
        }
      ]
    },
    {
      "cell_type": "code",
      "source": [
        "#12. Elabore um algoritmo que indique se um número digitado está compreendido entre 20 e \n",
        "#90, ou não\n",
        "\n",
        "n1 = int(input(\"Digite um número: \"))\n",
        "\n",
        "if n1 > 20 and n1 < 90:\n",
        "    print(\"Este número está entre 20 e 90!\")\n",
        "else:\n",
        "    print(\"Este número não está entre 20 e 90!\")"
      ],
      "metadata": {
        "colab": {
          "base_uri": "https://localhost:8080/"
        },
        "id": "bcAlEius70iV",
        "outputId": "660d3b38-1e11-4997-e977-8c7aa82039c6"
      },
      "execution_count": null,
      "outputs": [
        {
          "output_type": "stream",
          "name": "stdout",
          "text": [
            "Digite um número: 1\n",
            "Este número não está entre 20 e 90!\n"
          ]
        }
      ]
    },
    {
      "cell_type": "code",
      "source": [
        "#13. Elabore um algoritmo que leia dois números e imprima qual é maior, qual é menor, ou se \n",
        "#são iguais\n",
        "\n",
        "n1 = int(input(\"Digite um número: \"))\n",
        "n2 = int(input(\"Digite outro número: \"))\n",
        "\n",
        "if n1 > n2:\n",
        "    print(n1, \"é maior que\", n2)\n",
        "elif n1 == n2:\n",
        "    print(n1, \"é igual a\", n2)\n",
        "else:\n",
        "    print(n2, \"é maior que\", n1)"
      ],
      "metadata": {
        "colab": {
          "base_uri": "https://localhost:8080/"
        },
        "id": "qJDFD3hb8_FW",
        "outputId": "7ba325c3-cd7b-4d52-d0d1-250d2924937b"
      },
      "execution_count": null,
      "outputs": [
        {
          "output_type": "stream",
          "name": "stdout",
          "text": [
            "Digite um número: 35\n",
            "Digite outro número: 12\n",
            "35 é maior que 12\n"
          ]
        }
      ]
    }
  ]
}